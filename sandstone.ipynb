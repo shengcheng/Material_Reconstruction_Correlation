{
 "cells": [
  {
   "cell_type": "code",
   "execution_count": 1,
   "metadata": {},
   "outputs": [],
   "source": [
    "import numpy as np\n",
    "import torch\n",
    "import torch.nn as nn\n",
    "import torch.nn.functional as F\n",
    "from torch.autograd import Variable\n",
    "import matplotlib.pyplot as plt\n",
    "from scipy import signal\n",
    "from mpl_toolkits.mplot3d import Axes3D  \n",
    "import scipy.misc\n",
    "import scipy.io\n",
    "from torch.optim import Adam, LBFGS\n",
    "from scipy.stats import bernoulli, norm"
   ]
  },
  {
   "cell_type": "code",
   "execution_count": 2,
   "metadata": {},
   "outputs": [],
   "source": [
    "torch.cuda.is_available()\n",
    "device = torch.device(\"cuda\")"
   ]
  },
  {
   "cell_type": "code",
   "execution_count": 3,
   "metadata": {},
   "outputs": [],
   "source": [
    "def all_all_triangle(a):\n",
    "    max_len = a / 2\n",
    "    center_x = int(a//2)\n",
    "    center_y = int(a//2)\n",
    "    res = []\n",
    "    dic = []\n",
    "    for l1 in range(0, a):\n",
    "        for l2 in range(0, a):\n",
    "            for l3 in range(0, a):\n",
    "                for l4 in range(0, a):\n",
    "                    if ([l1, l2, l3, l4] not in dic) and ([l3, l4, l1, l2] not in dic):\n",
    "                        dic.append([l1, l2, l3, l4])\n",
    "                        img = np.zeros([a, a])\n",
    "                        img[center_y, center_x] = 1\n",
    "                        img[l1, l2] += 1\n",
    "                        img[l3, l4] += 1\n",
    "                        res.append(img)\n",
    "                    \n",
    "    return np.array(res)\n",
    "\n",
    "def all_all_shuffle_triangle(a):\n",
    "    max_len = a / 2\n",
    "    center_x = int(a//2)\n",
    "    center_y = int(a//2)\n",
    "    res = []\n",
    "    dic = []\n",
    "    for l in range(a-center_x):\n",
    "        for l1 in range(-l, l+1):\n",
    "            for l2 in range(-l, l+1):\n",
    "                for l3 in range(-l, l+1):\n",
    "                    for l4 in range(-l, l+1):\n",
    "                        if ([l1, l2, l3, l4] not in dic) and ([l3, l4, l1, l2] not in dic):\n",
    "                            dic.append([l1, l2, l3, l4])\n",
    "                            img = np.zeros([a, a])\n",
    "                            img[center_x, center_y] = 1\n",
    "                            img[int(center_x+l1), int(center_y+l2)] += 1\n",
    "                            img[int(center_x+l3), int(center_y+l4)] += 1\n",
    "                            res.append(img)\n",
    "    return np.array(res)\n",
    "\n",
    "def all_all_shuffle_triangle_v2(a):\n",
    "    max_len = a / 2\n",
    "    center_x = int(a//2)\n",
    "    center_y = int(a//2)\n",
    "    res = []\n",
    "    dic = []\n",
    "    for l in range(a-center_x):\n",
    "        for l1 in range(-l, l+1):\n",
    "            for l2 in range(-l, l+1):\n",
    "                for l3 in range(-l, l+1):\n",
    "                    for l4 in range(-l, l+1):\n",
    "                        if ([l1, l2, l3, l4] not in dic) and ([l3, l4, l1, l2] not in dic):\n",
    "                            dic.append([l1, l2, l3, l4])\n",
    "    dic = np.array(dic)\n",
    "    for i in range(len(dic)):\n",
    "        l1, l2, l3, l4 = dic[i]\n",
    "        img = np.zeros([a, a])\n",
    "        img[center_x, center_y] = 1\n",
    "        img[int(center_x+l1), int(center_y+l2)] += 1\n",
    "        img[int(center_x+l3), int(center_y+l4)] += 1\n",
    "    return np.array(res)\n",
    "                    \n",
    "                    \n",
    "\n",
    "def stretch_triangle(a, b):\n",
    "    max_len = a.shape[0]\n",
    "    max_len = max_len * b\n",
    "    res = np.zeros([max_len, max_len])\n",
    "    index = np.where(a != 0)\n",
    "    for i in range(len(index[0])):\n",
    "        x1 = index[0][i]\n",
    "        x2 = index[1][i]\n",
    "        v = a[x1, x2]\n",
    "        x1 = x1 * b + b / 2\n",
    "        x2 = x2 * b + b / 2\n",
    "        x1 = int(x1)\n",
    "        x2 = int(x2)\n",
    "        res[x1, x2] = v\n",
    "    return res\n",
    "\n",
    "def stretch_odd_triangle(a, b):\n",
    "    max_len = a.shape[0]\n",
    "    assert(max_len % 2 == 1)\n",
    "    max_len = int((max_len-1) * b  + 1)\n",
    "    res = np.zeros([max_len, max_len])\n",
    "    index = np.where(a != 0)\n",
    "    for i in range(len(index[0])):\n",
    "        x1 = index[0][i]\n",
    "        x2 = index[1][i]\n",
    "        v = a[x1, x2]\n",
    "        x1 = x1 * b\n",
    "        x2 = x2 * b\n",
    "        x1 = int(x1)\n",
    "        x2 = int(x2)\n",
    "        res[x1, x2] = v\n",
    "    return res\n",
    "\n",
    "def resize_triangle(a, b):\n",
    "    current_size = a.shape[0]\n",
    "    center_point = int(current_size / 2)\n",
    "    ind = np.array(np.where(a != 0))\n",
    "#     assert any(center_point in ind)\n",
    "    res = np.zeros([b, b])\n",
    "    center_v = a[center_point, center_point]\n",
    "    new_center = b / 2\n",
    "    res[int(new_center), int(new_center)] = center_v\n",
    "    for i in range(len(ind[0])):\n",
    "        if not (ind[0, i] == center_point and ind[1, i] == center_point):\n",
    "            v = a[int(ind[0, i]), int(ind[1, i])]\n",
    "            x = new_center + int(ind[0, i] - current_size / 2)\n",
    "            y = new_center + int(ind[1, i] - current_size / 2)\n",
    "            res[int(x), int(y)] = v\n",
    "    return res\n",
    "\n",
    "def resize_odd_triangle(a, b):\n",
    "    current_size = a.shape[0]\n",
    "    old_center = (current_size-1)/2\n",
    "    assert(current_size % 2 == 1)\n",
    "    assert(b%2==1)\n",
    "    ind = np.array(np.where(a != 0))\n",
    "#     assert any(center_point in ind)\n",
    "    res = np.zeros([b, b])\n",
    "    center_v = a[int(old_center), int(old_center)]\n",
    "    new_center = (b-1)/2\n",
    "    res[int(new_center), int(new_center)] = center_v\n",
    "    for i in range(len(ind[0])):\n",
    "        if not (ind[0, i] == old_center and ind[1, i] == old_center):\n",
    "            v = a[int(ind[0, i]), int(ind[1, i])]\n",
    "            x = new_center + int(ind[0, i] - old_center)\n",
    "            y = new_center + int(ind[1, i] - old_center)\n",
    "            res[int(x), int(y)] = v\n",
    "    return res\n",
    "    \n",
    "        "
   ]
  },
  {
   "cell_type": "code",
   "execution_count": 4,
   "metadata": {},
   "outputs": [],
   "source": [
    "def gkern(kernlen=21, std=3):\n",
    "    \"\"\"Returns a 2D Gaussian kernel array.\"\"\"\n",
    "    gkern1d = signal.gaussian(kernlen, std=std).reshape(kernlen, 1)\n",
    "    gkern2d = np.outer(gkern1d, gkern1d)\n",
    "    gkern2d /= (2*np.pi*(std**2))\n",
    "    return gkern2d"
   ]
  },
  {
   "cell_type": "code",
   "execution_count": 5,
   "metadata": {},
   "outputs": [],
   "source": [
    "def resize_odd_triangle_index(a, b, index):\n",
    "    current_size = a\n",
    "    old_center = (current_size-1)/2\n",
    "    res = np.zeros([b, b])\n",
    "    new_center = (b-1)/2\n",
    "    l1, l2, l3, l4 = index\n",
    "    res[int(new_center), int(new_center)] = 1\n",
    "    x1 = new_center - (l1 - old_center)\n",
    "    y1 = new_center - (l2 - old_center)\n",
    "    x2 = new_center - (l3 - old_center)\n",
    "    y2 = new_center - (l4 - old_center)\n",
    "    res[int(x1), int(y1)] += 1\n",
    "    res[int(x2), int(y2)] += 1\n",
    "    return res\n",
    "\n",
    "def stretch_odd_triangle_index(a, b, index):\n",
    "    current_size = a\n",
    "    old_center = (current_size-1)/2\n",
    "    assert(current_size % 2 == 1)\n",
    "    new_size = int((current_size-1) * b  + 1)\n",
    "    new_center = old_center*b\n",
    "    res = np.zeros([new_size, new_size])\n",
    "    res[int(new_center), int(new_center)] = 1\n",
    "    res[int(index[0]*b+new_center), int(index[1]*b+new_center)] += 1\n",
    "    res[int(index[2]*b+new_center), int(index[3]*b+new_center)] += 1\n",
    "    return res\n",
    "\n",
    "    "
   ]
  },
  {
   "cell_type": "code",
   "execution_count": 6,
   "metadata": {},
   "outputs": [
    {
     "data": {
      "text/plain": [
       "array([0, 0, 0, 0])"
      ]
     },
     "execution_count": 6,
     "metadata": {},
     "output_type": "execute_result"
    }
   ],
   "source": [
    "index_40 = np.load('20_index.npy')\n",
    "index_40[0]"
   ]
  },
  {
   "cell_type": "code",
   "execution_count": 7,
   "metadata": {},
   "outputs": [
    {
     "data": {
      "text/plain": [
       "7381"
      ]
     },
     "execution_count": 7,
     "metadata": {},
     "output_type": "execute_result"
    }
   ],
   "source": [
    "bound_len = np.max(np.abs(index_40), 1)\n",
    "bound = 5\n",
    "bound_index = np.where(bound_len <= bound)[0]\n",
    "len(bound_index)"
   ]
  },
  {
   "cell_type": "code",
   "execution_count": 8,
   "metadata": {},
   "outputs": [],
   "source": [
    "w_all_test = [stretch_odd_triangle_index(21, 2, i) for i in index_40[bound_index]]\n",
    "w_all_test = np.array(w_all_test)"
   ]
  },
  {
   "cell_type": "code",
   "execution_count": 9,
   "metadata": {},
   "outputs": [
    {
     "name": "stdout",
     "output_type": "stream",
     "text": [
      "(7381, 41, 41)\n"
     ]
    }
   ],
   "source": [
    "print(w_all_test.shape)"
   ]
  },
  {
   "cell_type": "code",
   "execution_count": 10,
   "metadata": {},
   "outputs": [
    {
     "name": "stdout",
     "output_type": "stream",
     "text": [
      "(45, 41, 41)\n"
     ]
    }
   ],
   "source": [
    "w_all_test1 = all_all_shuffle_triangle(3)\n",
    "w_all_test1 = [stretch_odd_triangle(w_, 2) for w_ in w_all_test1]\n",
    "w_all_test1 = [resize_odd_triangle(w_, 41) for w_ in w_all_test1]\n",
    "# w_all_test = all_all_triangle(20)\n",
    "w_all_test1 = np.array(w_all_test1)\n",
    "print(w_all_test1.shape)"
   ]
  },
  {
   "cell_type": "code",
   "execution_count": 11,
   "metadata": {},
   "outputs": [
    {
     "name": "stdout",
     "output_type": "stream",
     "text": [
      "(41, 41)\n"
     ]
    },
    {
     "data": {
      "image/png": "[encoded data removed]",
      "text/plain": [
       "<Figure size 432x288 with 1 Axes>"
      ]
     },
     "metadata": {
      "needs_background": "light"
     },
     "output_type": "display_data"
    }
   ],
   "source": [
    "w1 = w_all_test[2,:,:]\n",
    "plt.imshow(w1, cmap='gray')\n",
    "plt.axis(\"off\")\n",
    "print(w1.shape)\n",
    "# plt.imshow(w_all[100], cmap='gray')"
   ]
  },
  {
   "cell_type": "code",
   "execution_count": 12,
   "metadata": {},
   "outputs": [
    {
     "name": "stdout",
     "output_type": "stream",
     "text": [
      "(128, 128)\n"
     ]
    },
    {
     "data": {
      "text/plain": [
       "(-0.5, 127.5, 127.5, -0.5)"
      ]
     },
     "execution_count": 12,
     "metadata": {},
     "output_type": "execute_result"
    },
    {
     "data": {
      "image/png": "[encoded data removed]",
      "text/plain": [
       "<Figure size 432x288 with 1 Axes>"
      ]
     },
     "metadata": {
      "needs_background": "light"
     },
     "output_type": "display_data"
    }
   ],
   "source": [
    "a1 = scipy.io.loadmat('sandstone_data.mat')\n",
    "a1 = a1['Data']\n",
    "a1 = a1[0,:].reshape([128, 128])\n",
    "size = a1.shape\n",
    "print(size)\n",
    "plt.imshow(a1, cmap='gray')\n",
    "plt.axis('off')"
   ]
  },
  {
   "cell_type": "code",
   "execution_count": 13,
   "metadata": {},
   "outputs": [],
   "source": [
    "index = np.random.permutation(np.arange(len(w_all_test)))[:738]"
   ]
  },
  {
   "cell_type": "code",
   "execution_count": 14,
   "metadata": {},
   "outputs": [
    {
     "data": {
      "text/plain": [
       "array([[0.05854983, 0.09653235, 0.05854983],\n",
       "       [0.09653235, 0.15915494, 0.09653235],\n",
       "       [0.05854983, 0.09653235, 0.05854983]])"
      ]
     },
     "execution_count": 14,
     "metadata": {},
     "output_type": "execute_result"
    }
   ],
   "source": [
    "weight_filter = gkern(3, 1)\n",
    "weight_filter"
   ]
  },
  {
   "cell_type": "code",
   "execution_count": 15,
   "metadata": {},
   "outputs": [],
   "source": [
    "d1 = w_all_test[index]\n",
    "d2 = d1[:,np.newaxis,:,:]"
   ]
  },
  {
   "cell_type": "code",
   "execution_count": 16,
   "metadata": {},
   "outputs": [],
   "source": [
    "with torch.no_grad():\n",
    "    aa = np.rot90(np.rot90(a1)).copy()\n",
    "    inputs = torch.from_numpy(aa.reshape([1, 1, size[0], size[1]]))\n",
    "    # inputs = torch.from_numpy(a.reshape([1, 1, size[0], size[1]]))\n",
    "    inputs = inputs.type(torch.FloatTensor)\n",
    "    inputs = Variable(inputs)\n",
    "    inputs_inv = torch.ones(inputs.size()) - inputs\n",
    "    inputs = inputs.to(device)\n",
    "    inputs_inv = inputs_inv.to(device)"
   ]
  },
  {
   "cell_type": "code",
   "execution_count": 17,
   "metadata": {},
   "outputs": [
    {
     "data": {
      "text/plain": [
       "torch.Size([1, 1, 128, 128])"
      ]
     },
     "execution_count": 17,
     "metadata": {},
     "output_type": "execute_result"
    }
   ],
   "source": [
    "inputs.size()"
   ]
  },
  {
   "cell_type": "code",
   "execution_count": 18,
   "metadata": {},
   "outputs": [
    {
     "name": "stdout",
     "output_type": "stream",
     "text": [
      "torch.Size([738, 1, 168, 168])\n",
      "tensor([0.0050, 0.0105, 0.0067, 0.0162, 0.0021, 0.0067, 0.0162, 0.0016, 0.0127,\n",
      "        0.0251, 0.0054, 0.0229, 0.0202, 0.0077, 0.0177, 0.0344, 0.0080, 0.0070,\n",
      "        0.0237, 0.0105], device='cuda:0')\n",
      "torch.Size([738])\n"
     ]
    }
   ],
   "source": [
    "# %% convert to pytorch code\n",
    "with torch.no_grad():\n",
    "    weights = torch.from_numpy(d2.reshape([d2.shape[0],1,d2.shape[2], d2.shape[3]]))\n",
    "    weights = weights.type(torch.FloatTensor)\n",
    "    weights = Variable(weights)\n",
    "    weights = weights.to(device)\n",
    "    bias = Variable(torch.Tensor([-2.0]))\n",
    "    bias = bias.to(device)\n",
    "    outputs = F.conv_transpose2d(weights, inputs, bias, padding=0)\n",
    "    outputs = F.relu(outputs)\n",
    "    print(outputs.size())\n",
    "    outputs = torch.mean(outputs, dim=(1,2,3))\n",
    "    # outputs = F.conv2d(inputs, weights, b+ias, padding=5)\n",
    "    print(outputs[:20])\n",
    "    outputs_inv = F.conv_transpose2d(weights, inputs_inv, bias, padding=0)\n",
    "    outputs_inv = F.relu(outputs_inv)\n",
    "    outputs_inv = torch.mean(outputs_inv, dim=(1,2,3))\n",
    "    print(outputs_inv.size())"
   ]
  },
  {
   "cell_type": "code",
   "execution_count": 19,
   "metadata": {},
   "outputs": [
    {
     "name": "stdout",
     "output_type": "stream",
     "text": [
      "torch.Size([45, 1, 168, 168])\n",
      "tensor([0.1149, 0.0793, 0.0723, 0.0584, 0.0731, 0.0793, 0.0605, 0.0617, 0.0620,\n",
      "        0.0528, 0.0899, 0.0736, 0.0716, 0.0899, 0.0731, 0.0630, 0.0697, 0.0626,\n",
      "        0.0792, 0.0589, 0.0792, 0.0716, 0.0530, 0.0624, 0.0591, 0.0876, 0.0876,\n",
      "        0.0646, 0.0736, 0.0723, 0.0599, 0.0876, 0.0792, 0.0899, 0.0793, 0.0876,\n",
      "        0.0590, 0.0736, 0.0723, 0.0792, 0.0716, 0.0570, 0.0899, 0.0731, 0.0793],\n",
      "       device='cuda:0')\n"
     ]
    }
   ],
   "source": [
    "# %% convert to pytorch code\n",
    "# index = [0,1,2]\n",
    "with torch.no_grad():\n",
    "    d3 = w_all_test1[:, np.newaxis, :,:]\n",
    "    weights_test = torch.from_numpy(d3.reshape([d3.shape[0],1,d3.shape[2], d3.shape[3]]))\n",
    "    weights_test = weights_test.type(torch.FloatTensor)\n",
    "    weights_test = Variable(weights_test)\n",
    "    weights_test = weights_test.to(device)\n",
    "    bias = Variable(torch.Tensor([-2.0]))\n",
    "    bias = bias.to(device)\n",
    "    outputs_test = F.conv_transpose2d(weights_test, inputs, bias, padding=0)\n",
    "    outputs_test = F.relu(outputs_test)\n",
    "    print(outputs_test.size())\n",
    "    outputs_test = torch.mean(outputs_test, dim=(1,2,3))\n",
    "    print(outputs_test[:50])\n",
    "    # outputs = F.conv2d(inputs, weights, b+ias, padding=5)\n",
    "    # print(outputs.size())\n",
    "    outputs_inv_test = F.conv_transpose2d(weights_test, inputs_inv, bias, padding=0)\n",
    "    outputs_inv_test = F.relu(outputs_inv_test)\n",
    "    outputs_inv_test = torch.mean(outputs_inv_test, dim=(1,2,3))"
   ]
  },
  {
   "cell_type": "code",
   "execution_count": 20,
   "metadata": {},
   "outputs": [
    {
     "name": "stdout",
     "output_type": "stream",
     "text": [
      "0.11486677825450897\n",
      "(128, 128)\n"
     ]
    },
    {
     "data": {
      "image/png": "[encoded data removed]",
      "text/plain": [
       "<Figure size 432x288 with 1 Axes>"
      ]
     },
     "metadata": {
      "needs_background": "light"
     },
     "output_type": "display_data"
    }
   ],
   "source": [
    "p = outputs_test[0].item()\n",
    "# p = outputs[312].item()\n",
    "print(p)\n",
    "I1 = bernoulli.rvs(p, size=[size[0], size[1]])\n",
    "plt.axis(\"off\")\n",
    "print(I1.shape)\n",
    "plt.imshow(I1, cmap='gray')\n",
    "I1 = I1.astype(np.float32)\n",
    "I1 = I1.reshape([1, 1, size[0], size[1]])"
   ]
  },
  {
   "cell_type": "code",
   "execution_count": null,
   "metadata": {
    "scrolled": true
   },
   "outputs": [
    {
     "name": "stdout",
     "output_type": "stream",
     "text": [
      "Beta: 7, iteration: 0, loss: 3.98737e-04\n"
     ]
    },
    {
     "data": {
      "image/png": "[encoded data removed]",
      "text/plain": [
       "<Figure size 432x288 with 1 Axes>"
      ]
     },
     "metadata": {
      "needs_background": "light"
     },
     "output_type": "display_data"
    },
    {
     "name": "stdout",
     "output_type": "stream",
     "text": [
      "Beta: 7, iteration: 100, loss: 1.93451e-05\n"
     ]
    },
    {
     "data": {
      "image/png": "[encoded data removed]",
      "text/plain": [
       "<Figure size 432x288 with 1 Axes>"
      ]
     },
     "metadata": {
      "needs_background": "light"
     },
     "output_type": "display_data"
    },
    {
     "name": "stdout",
     "output_type": "stream",
     "text": [
      "Beta: 7, iteration: 200, loss: 1.52002e-05\n"
     ]
    },
    {
     "data": {
      "image/png": "[encoded data removed]",
      "text/plain": [
       "<Figure size 432x288 with 1 Axes>"
      ]
     },
     "metadata": {
      "needs_background": "light"
     },
     "output_type": "display_data"
    },
    {
     "name": "stdout",
     "output_type": "stream",
     "text": [
      "Beta: 7, iteration: 300, loss: 1.23323e-05\n"
     ]
    },
    {
     "data": {
      "image/png": "[encoded data removed]",
      "text/plain": [
       "<Figure size 432x288 with 1 Axes>"
      ]
     },
     "metadata": {
      "needs_background": "light"
     },
     "output_type": "display_data"
    },
    {
     "name": "stdout",
     "output_type": "stream",
     "text": [
      "Beta: 7, iteration: 400, loss: 8.02133e-06\n"
     ]
    },
    {
     "data": {
      "image/png": "[encoded data removed]",
      "text/plain": [
       "<Figure size 432x288 with 1 Axes>"
      ]
     },
     "metadata": {
      "needs_background": "light"
     },
     "output_type": "display_data"
    },
    {
     "name": "stdout",
     "output_type": "stream",
     "text": [
      "Beta: 7, iteration: 500, loss: 5.63105e-06\n"
     ]
    },
    {
     "data": {
      "image/png": "[encoded data removed]",
      "text/plain": [
       "<Figure size 432x288 with 1 Axes>"
      ]
     },
     "metadata": {
      "needs_background": "light"
     },
     "output_type": "display_data"
    },
    {
     "name": "stdout",
     "output_type": "stream",
     "text": [
      "Beta: 7, iteration: 600, loss: 4.80516e-06\n"
     ]
    },
    {
     "data": {
      "image/png": "[encoded data removed]",
      "text/plain": [
       "<Figure size 432x288 with 1 Axes>"
      ]
     },
     "metadata": {
      "needs_background": "light"
     },
     "output_type": "display_data"
    },
    {
     "name": "stdout",
     "output_type": "stream",
     "text": [
      "Beta: 7, iteration: 700, loss: 3.95323e-06\n"
     ]
    },
    {
     "data": {
      "image/png": "[encoded data removed]",
      "text/plain": [
       "<Figure size 432x288 with 1 Axes>"
      ]
     },
     "metadata": {
      "needs_background": "light"
     },
     "output_type": "display_data"
    },
    {
     "name": "stdout",
     "output_type": "stream",
     "text": [
      "Beta: 7, iteration: 800, loss: 3.70851e-06\n"
     ]
    },
    {
     "data": {
      "image/png": "[encoded data removed]",
      "text/plain": [
       "<Figure size 432x288 with 1 Axes>"
      ]
     },
     "metadata": {
      "needs_background": "light"
     },
     "output_type": "display_data"
    },
    {
     "name": "stdout",
     "output_type": "stream",
     "text": [
      "Beta: 7, iteration: 900, loss: 3.57223e-06\n"
     ]
    },
    {
     "data": {
      "image/png": "[encoded data removed]",
      "text/plain": [
       "<Figure size 432x288 with 1 Axes>"
      ]
     },
     "metadata": {
      "needs_background": "light"
     },
     "output_type": "display_data"
    },
    {
     "name": "stdout",
     "output_type": "stream",
     "text": [
      "Beta: 7, iteration: 1000, loss: 3.27929e-06\n"
     ]
    },
    {
     "data": {
      "image/png": "[encoded data removed]",
      "text/plain": [
       "<Figure size 432x288 with 1 Axes>"
      ]
     },
     "metadata": {
      "needs_background": "light"
     },
     "output_type": "display_data"
    },
    {
     "name": "stdout",
     "output_type": "stream",
     "text": [
      "Beta: 7, iteration: 2000, loss: 2.32140e-06\n"
     ]
    },
    {
     "data": {
      "image/png": "[encoded data removed]",
      "text/plain": [
       "<Figure size 432x288 with 1 Axes>"
      ]
     },
     "metadata": {
      "needs_background": "light"
     },
     "output_type": "display_data"
    },
    {
     "name": "stdout",
     "output_type": "stream",
     "text": [
      "Beta: 7, iteration: 3000, loss: 2.11632e-06\n"
     ]
    },
    {
     "data": {
      "image/png": "[encoded data removed]",
      "text/plain": [
       "<Figure size 432x288 with 1 Axes>"
      ]
     },
     "metadata": {
      "needs_background": "light"
     },
     "output_type": "display_data"
    },
    {
     "name": "stdout",
     "output_type": "stream",
     "text": [
      "Beta: 7, iteration: 4000, loss: 1.84993e-06\n"
     ]
    },
    {
     "data": {
      "image/png": "[encoded data removed]",
      "text/plain": [
       "<Figure size 432x288 with 1 Axes>"
      ]
     },
     "metadata": {
      "needs_background": "light"
     },
     "output_type": "display_data"
    },
    {
     "name": "stdout",
     "output_type": "stream",
     "text": [
      "Beta: 9, iteration: 0, loss: 1.76020e-06\n"
     ]
    },
    {
     "data": {
      "image/png": "[encoded data removed]",
      "text/plain": [
       "<Figure size 432x288 with 1 Axes>"
      ]
     },
     "metadata": {
      "needs_background": "light"
     },
     "output_type": "display_data"
    },
    {
     "name": "stdout",
     "output_type": "stream",
     "text": [
      "Beta: 9, iteration: 1000, loss: 1.74612e-06\n"
     ]
    },
    {
     "data": {
      "image/png": "[encoded data removed]",
      "text/plain": [
       "<Figure size 432x288 with 1 Axes>"
      ]
     },
     "metadata": {
      "needs_background": "light"
     },
     "output_type": "display_data"
    },
    {
     "name": "stdout",
     "output_type": "stream",
     "text": [
      "Beta: 9, iteration: 2000, loss: 1.74085e-06\n"
     ]
    },
    {
     "data": {
      "image/png": "[encoded data removed]",
      "text/plain": [
       "<Figure size 432x288 with 1 Axes>"
      ]
     },
     "metadata": {
      "needs_background": "light"
     },
     "output_type": "display_data"
    },
    {
     "name": "stdout",
     "output_type": "stream",
     "text": [
      "Beta: 9, iteration: 3000, loss: 1.72622e-06\n"
     ]
    },
    {
     "data": {
      "image/png": "[encoded data removed]",
      "text/plain": [
       "<Figure size 432x288 with 1 Axes>"
      ]
     },
     "metadata": {
      "needs_background": "light"
     },
     "output_type": "display_data"
    }
   ],
   "source": [
    "weights.requires_grad = False\n",
    "bias.requires_grad = False\n",
    "outputs.requires_grad = False\n",
    "outputs_inv.requires_grad = False\n",
    "outputs = outputs.to(device)\n",
    "outputs_inv = outputs_inv.to(device)\n",
    "I = torch.tensor(I1, device=device)\n",
    "I = Variable(I, requires_grad=True)\n",
    "ones = Variable(torch.ones([1, 1, size[0], size[1]]), requires_grad=False)\n",
    "ones = ones.to(device)\n",
    "zeros = Variable(torch.zeros([1, 1, size[0], size[1]]), requires_grad=False)\n",
    "init_I = I.detach().data\n",
    "weight_filters = Variable(torch.from_numpy(weight_filter.reshape([1,1,3,3])).float(), requires_grad=False)\n",
    "\n",
    "# I = I.to(device)\n",
    "I.requires_grad = True\n",
    "weight_filters = weight_filters.to(device)\n",
    "for beta in [7, 9, 11, 17]:\n",
    "    if beta < 11:\n",
    "        iters = 5000\n",
    "    elif beta < 15:\n",
    "        iters = 4000\n",
    "    else:\n",
    "        iters = 2000\n",
    "    for i in range(iters):\n",
    "        \n",
    "        \n",
    "        cons_i = F.tanh(torch.tensor(beta/2))\n",
    "        I_ = (cons_i + F.tanh(beta*I - beta/2)) / (2 * cons_i)\n",
    "        out = F.conv_transpose2d(weights, I_, bias, padding=0, stride=1)\n",
    "        out = F.relu(out)\n",
    "        out = torch.mean(out, dim=(1,2,3))\n",
    "        loss = ((out-outputs)**2).mean()\n",
    "\n",
    "        \n",
    "        with torch.no_grad():\n",
    "            if beta == 7 and i % 100 == 0 and i <= 1000:\n",
    "                print(\"Beta: {}, iteration: {}, loss: {:.5e}\".format(beta, i, loss.item()))\n",
    "                plt.imshow(I_.data.cpu().numpy()[0,0,:,:], cmap='gray')\n",
    "                plt.axis(\"off\")\n",
    "                plt.show()\n",
    "            elif i % 1000 == 0:\n",
    "                print(\"Beta: {}, iteration: {}, loss: {:.5e}\".format(beta, i, loss.item()))\n",
    "                plt.imshow(I_.data.cpu().numpy()[0,0,:,:], cmap='gray')\n",
    "                plt.axis(\"off\")\n",
    "                plt.show()\n",
    "     \n",
    "        grads = torch.autograd.grad(loss, I)\n",
    "        with torch.no_grad():\n",
    "            if I.grad is None:\n",
    "                I.grad = grads[0].detach()\n",
    "            else:\n",
    "                I.grad.fill_(grads[0].detach())\n",
    "\n",
    "            I.grad = F.conv2d(I.grad, weight_filters, padding=1, stride=1)\n",
    "\n",
    "\n",
    "        if beta < 9:\n",
    "            if i < 5:\n",
    "                I = I - 20000000 * I.grad\n",
    "            elif i < 500:\n",
    "                I = I - 20000000 * I.grad\n",
    "            elif i < 2000:\n",
    "                I = I - 20000000 * I.grad\n",
    "            elif i < 10000:\n",
    "                I = I - 10000000 * I.grad\n",
    "            elif i < 20000:\n",
    "                I = I - 5000000 * I.grad\n",
    "            else:\n",
    "                I = I - 1000000 * I.grad\n",
    "        else:\n",
    "            if i < 2000:\n",
    "                I = I - 10000000 * I.grad\n",
    "            else:\n",
    "                I = I - 5000000 * I.grad                "
   ]
  },
  {
   "cell_type": "code",
   "execution_count": null,
   "metadata": {},
   "outputs": [],
   "source": []
  },
  {
   "cell_type": "code",
   "execution_count": null,
   "metadata": {},
   "outputs": [],
   "source": []
  }
 ],
 "metadata": {
  "kernelspec": {
   "display_name": "pytorch-gpu",
   "language": "python",
   "name": "pytorch-gpu"
  },
  "language_info": {
   "codemirror_mode": {
    "name": "ipython",
    "version": 3
   },
   "file_extension": ".py",
   "mimetype": "text/x-python",
   "name": "python",
   "nbconvert_exporter": "python",
   "pygments_lexer": "ipython3",
   "version": "3.7.2"
  }
 },
 "nbformat": 4,
 "nbformat_minor": 2
}
